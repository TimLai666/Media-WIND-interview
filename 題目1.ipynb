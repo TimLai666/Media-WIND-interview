{
 "cells": [
  {
   "cell_type": "markdown",
   "metadata": {},
   "source": [
    "### 連線到 MySQL 資料庫"
   ]
  },
  {
   "cell_type": "code",
   "execution_count": 12,
   "metadata": {},
   "outputs": [
    {
     "name": "stdout",
     "output_type": "stream",
     "text": [
      "資料庫 'example_db' 建立成功！\n"
     ]
    }
   ],
   "source": [
    "from sqlalchemy import create_engine, text\n",
    "\n",
    "# 寫成 class 就能建立多個實例，連線到不同資料庫\n",
    "class MySQL_DB:\n",
    "    def __init__(self, user: str, password: str, db_name: str, host: str=\"localhost\", port: int=3306) -> None:\n",
    "        self.host = host\n",
    "        self.port = str(port)\n",
    "        self.user = user\n",
    "        self.password = password # 通常是放在環境變數\n",
    "        self.db_name = db_name\n",
    "        self.engine = create_engine(f'mysql+pymysql://{self.user}:{self.password}@{self.host}:{self.port}')\n",
    "    \n",
    "    def create_db(self) -> None:\n",
    "        with self.engine.connect() as connection:\n",
    "            connection.execute(text(f\"CREATE DATABASE IF NOT EXISTS {self.db_name} DEFAULT CHARACTER SET utf8mb4 COLLATE utf8mb4_unicode_ci;\"))\n",
    "            self.engine = create_engine(f'mysql+pymysql://{self.user}:{self.password}@{self.host}:{self.port}/{self.db_name}')\n",
    "            print(f\"資料庫 '{self.db_name}' 建立成功！\")    \n",
    "\n",
    "# 連線到 example_db 資料庫\n",
    "db = MySQL_DB(user='root', password='example', db_name='example_db')\n",
    "db.create_db()"
   ]
  },
  {
   "cell_type": "markdown",
   "metadata": {},
   "source": [
    "### 1. 讀取 CSV 然後存入 MySQL"
   ]
  },
  {
   "cell_type": "code",
   "execution_count": 13,
   "metadata": {},
   "outputs": [
    {
     "name": "stdout",
     "output_type": "stream",
     "text": [
      "         id name                 email  age                  city\n",
      "0         1  蘇思穎     jie35@example.org   23  15594 屏東縣大安街6段131號4樓\n",
      "1         2  萬俊傑    dliang@example.net   41        553 連江三民街48號之0\n",
      "2         3  閻怡伶       eli@example.org   54     57672 臺中奇岩巷465號8樓\n",
      "3         4  李佳樺    guyang@example.org   45        869 台北市民富巷5號之2\n",
      "4         5  王嘉玲    weifan@example.net   37      15288 關山市光華街4號1樓\n",
      "...     ...  ...                   ...  ...                   ...\n",
      "9995   9996  尚惠婷      li60@example.com   32      68703 梅山縣自由巷2號之1\n",
      "9996   9997  李志宏     leixu@example.net   25         365 中壢林森路4號4樓\n",
      "9997   9998  邵志豪  duanyong@example.org   37    60090 鳳山縣長春街350號1樓\n",
      "9998   9999  張怡伶    juan15@example.org   44     983 南投永安路4段469號之6\n",
      "9999  10000  王詩婷    jungao@example.net   24      200 竹北龍山寺路7段8號之0\n",
      "\n",
      "[10000 rows x 5 columns]\n"
     ]
    }
   ],
   "source": [
    "import pandas as pd\n",
    "from os import path\n",
    "\n",
    "# 讀取 interview.csv，使用 path.join 來支援不同作業系統\n",
    "csv_file = path.join(\".\", \"data\", \"interview.csv\")\n",
    "\n",
    "# 用 pandas 讀成 DataFrame\n",
    "df = pd.read_csv(csv_file)\n",
    "\n",
    "# 存入資料庫\n",
    "df.to_sql('interview', con=db.engine, if_exists='replace', index=False)\n",
    "\n",
    "# 印出資料庫裡的東西，確定有存進去\n",
    "print(pd.read_sql('SELECT * FROM interview', con=db.engine))"
   ]
  },
  {
   "cell_type": "markdown",
   "metadata": {},
   "source": [
    "### 2. 讀取 Mysql 匯入的資料並將使用者的名子末兩碼改成 OO"
   ]
  },
  {
   "cell_type": "code",
   "execution_count": 14,
   "metadata": {},
   "outputs": [
    {
     "name": "stdout",
     "output_type": "stream",
     "text": [
      "         id name                 email  age                  city\n",
      "0         1  蘇OO     jie35@example.org   23  15594 屏東縣大安街6段131號4樓\n",
      "1         2  萬OO    dliang@example.net   41        553 連江三民街48號之0\n",
      "2         3  閻OO       eli@example.org   54     57672 臺中奇岩巷465號8樓\n",
      "3         4  李OO    guyang@example.org   45        869 台北市民富巷5號之2\n",
      "4         5  王OO    weifan@example.net   37      15288 關山市光華街4號1樓\n",
      "...     ...  ...                   ...  ...                   ...\n",
      "9995   9996  尚OO      li60@example.com   32      68703 梅山縣自由巷2號之1\n",
      "9996   9997  李OO     leixu@example.net   25         365 中壢林森路4號4樓\n",
      "9997   9998  邵OO  duanyong@example.org   37    60090 鳳山縣長春街350號1樓\n",
      "9998   9999  張OO    juan15@example.org   44     983 南投永安路4段469號之6\n",
      "9999  10000  王OO    jungao@example.net   24      200 竹北龍山寺路7段8號之0\n",
      "\n",
      "[10000 rows x 5 columns]\n"
     ]
    }
   ],
   "source": [
    "df = pd.read_sql('SELECT * FROM interview', con=db.engine)\n",
    "df[\"name\"] = df[\"name\"].str[0] + \"OO\"\n",
    "df.to_sql('interview', con=db.engine, if_exists='replace', index=False)\n",
    "\n",
    "# 印出資料庫裡的東西，確定有存進去\n",
    "new_df = pd.read_sql('SELECT * FROM interview', con=db.engine)\n",
    "print(new_df)"
   ]
  },
  {
   "cell_type": "markdown",
   "metadata": {},
   "source": [
    "### 3. 從 Mysql 撈出 age>30 歲的資料並寫入 google sheet 中"
   ]
  },
  {
   "cell_type": "code",
   "execution_count": null,
   "metadata": {},
   "outputs": [
    {
     "name": "stdout",
     "output_type": "stream",
     "text": [
      "        id name                 email  age                city\n",
      "0        2  萬OO    dliang@example.net   41      553 連江三民街48號之0\n",
      "1        3  閻OO       eli@example.org   54   57672 臺中奇岩巷465號8樓\n",
      "2        4  李OO    guyang@example.org   45      869 台北市民富巷5號之2\n",
      "3        5  王OO    weifan@example.net   37    15288 關山市光華街4號1樓\n",
      "4        6  白OO  jiezhang@example.com   53      789 頭份大仁巷88號3樓\n",
      "...    ...  ...                   ...  ...                 ...\n",
      "6900  9992  洪OO    ming28@example.com   37       172 苗栗福安路9號6樓\n",
      "6901  9995  石OO    sufang@example.com   33     576 太保市民享街73號之7\n",
      "6902  9996  尚OO      li60@example.com   32    68703 梅山縣自由巷2號之1\n",
      "6903  9998  邵OO  duanyong@example.org   37  60090 鳳山縣長春街350號1樓\n",
      "6904  9999  張OO    juan15@example.org   44   983 南投永安路4段469號之6\n",
      "\n",
      "[6905 rows x 5 columns]\n"
     ]
    }
   ],
   "source": [
    "# 撈出 age > 30 的資料\n",
    "df = pd.read_sql('SELECT * FROM interview where age > 30', con=db.engine)\n",
    "print(df)\n",
    "\n",
    "# todo: 寫入 google sheet"
   ]
  }
 ],
 "metadata": {
  "kernelspec": {
   "display_name": ".venv",
   "language": "python",
   "name": "python3"
  },
  "language_info": {
   "codemirror_mode": {
    "name": "ipython",
    "version": 3
   },
   "file_extension": ".py",
   "mimetype": "text/x-python",
   "name": "python",
   "nbconvert_exporter": "python",
   "pygments_lexer": "ipython3",
   "version": "3.13.2"
  }
 },
 "nbformat": 4,
 "nbformat_minor": 2
}
