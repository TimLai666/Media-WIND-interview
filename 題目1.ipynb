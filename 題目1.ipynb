{
 "cells": [
  {
   "cell_type": "markdown",
   "metadata": {},
   "source": [
    "### 連線到 MySQL 資料庫"
   ]
  },
  {
   "cell_type": "code",
   "execution_count": null,
   "metadata": {},
   "outputs": [],
   "source": [
    "from sqlalchemy import create_engine, text\n",
    "\n",
    "# 寫成 class 就能建立多個實例，連線到不同資料庫\n",
    "class MySQL_DB:\n",
    "    def __init__(self, user: str, password: str, db_name: str, host: str=\"localhost\", port: int=3306) -> None:\n",
    "        self.host = host\n",
    "        self.port = str(port)\n",
    "        self.user = user\n",
    "        self.password = password # 通常是放在環境變數\n",
    "        self.db_name = db_name\n",
    "        self.engine = create_engine(f'mysql+pymysql://{self.user}:{self.password}@{self.host}:{self.port}')\n",
    "    \n",
    "    def create_db(self) -> None:\n",
    "        with self.engine.connect() as connection:\n",
    "            connection.execute(text(f\"CREATE DATABASE IF NOT EXISTS {self.db_name} DEFAULT CHARACTER SET utf8mb4 COLLATE utf8mb4_unicode_ci;\"))\n",
    "            self.engine = create_engine(f'mysql+pymysql://{self.user}:{self.password}@{self.host}:{self.port}/{self.db_name}')\n",
    "            print(f\"資料庫 '{self.db_name}' 建立成功！\")    \n",
    "\n",
    "# 連線到 example_db 資料庫\n",
    "db = MySQL_DB(user='root', password='example', db_name='example_db')\n",
    "db.create_db()"
   ]
  },
  {
   "cell_type": "markdown",
   "metadata": {},
   "source": [
    "### 1. 讀取 CSV 然後存入 MySQL"
   ]
  },
  {
   "cell_type": "code",
   "execution_count": null,
   "metadata": {},
   "outputs": [],
   "source": [
    "import pandas as pd\n",
    "from os import path\n",
    "\n",
    "# 讀取 interview.csv，使用 path.join 來支援不同作業系統\n",
    "csv_file = path.join(\".\", \"data\", \"interview.csv\")\n",
    "\n",
    "# 用 pandas 讀成 DataFrame\n",
    "df = pd.read_csv(csv_file)\n",
    "\n",
    "# 存入資料庫\n",
    "df.to_sql('interview', con=db.engine, if_exists='replace', index=False)\n",
    "\n",
    "# 印出資料庫裡的東西，確定有存進去\n",
    "print(pd.read_sql('SELECT * FROM interview', con=db.engine))"
   ]
  },
  {
   "cell_type": "markdown",
   "metadata": {},
   "source": [
    "### 2. 讀取 Mysql 匯入的資料並將使用者的名子末兩碼改成 OO"
   ]
  },
  {
   "cell_type": "code",
   "execution_count": null,
   "metadata": {},
   "outputs": [],
   "source": [
    "df = pd.read_sql('SELECT * FROM interview', con=db.engine)\n",
    "df[\"name\"] = df[\"name\"].str[0] + \"OO\"\n",
    "df.to_sql('interview', con=db.engine, if_exists='replace', index=False)\n",
    "\n",
    "# 印出資料庫裡的東西，確定有存進去\n",
    "new_df = pd.read_sql('SELECT * FROM interview', con=db.engine)\n",
    "print(new_df)"
   ]
  }
 ],
 "metadata": {
  "kernelspec": {
   "display_name": ".venv",
   "language": "python",
   "name": "python3"
  },
  "language_info": {
   "codemirror_mode": {
    "name": "ipython",
    "version": 3
   },
   "file_extension": ".py",
   "mimetype": "text/x-python",
   "name": "python",
   "nbconvert_exporter": "python",
   "pygments_lexer": "ipython3",
   "version": "3.13.2"
  }
 },
 "nbformat": 4,
 "nbformat_minor": 2
}
